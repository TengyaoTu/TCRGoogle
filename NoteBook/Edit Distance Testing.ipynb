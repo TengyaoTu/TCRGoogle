{
 "cells": [
  {
   "cell_type": "code",
   "execution_count": 1,
   "metadata": {},
   "outputs": [
    {
     "name": "stdout",
     "output_type": "stream",
     "text": [
      "✅ 成功保存为 CSV 文件，路径为：C:/Users/数学迷迷迷/Desktop/蛋白质/vdjdb.csv\n"
     ]
    }
   ],
   "source": [
    "import pandas as pd\n",
    "\n",
    "# 原始路径\n",
    "txt_path = \"C:/Users/数学迷迷迷/Desktop/蛋白质/vdjdb.txt\"\n",
    "csv_path = \"C:/Users/数学迷迷迷/Desktop/蛋白质/vdjdb.csv\"\n",
    "\n",
    "# 加载并保存\n",
    "df = pd.read_csv(txt_path, sep='\\t')\n",
    "df.to_csv(csv_path, index=False)\n",
    "\n",
    "print(f\"✅ 成功保存为 CSV 文件，路径为：{csv_path}\")\n"
   ]
  },
  {
   "cell_type": "code",
   "execution_count": 2,
   "metadata": {},
   "outputs": [
    {
     "name": "stdout",
     "output_type": "stream",
     "text": [
      "✅ 已成功保存前500条记录为 vdjdb_head500.csv\n"
     ]
    }
   ],
   "source": [
    "import pandas as pd\n",
    "\n",
    "# 读取完整 CSV 文件\n",
    "df = pd.read_csv(\"C:/Users/数学迷迷迷/Desktop/蛋白质/vdjdb.csv\")\n",
    "\n",
    "# 提取前 500 条数据\n",
    "df_head500 = df.head(500)\n",
    "\n",
    "# 保存为新文件\n",
    "df_head500.to_csv(\"C:/Users/数学迷迷迷/Desktop/蛋白质/vdjdb_head500.csv\", index=False)\n",
    "\n",
    "print(\"✅ 已成功保存前500条记录为 vdjdb_head500.csv\")\n"
   ]
  },
  {
   "cell_type": "code",
   "execution_count": 3,
   "metadata": {},
   "outputs": [
    {
     "name": "stdout",
     "output_type": "stream",
     "text": [
      "转换完成，文件已保存为: C:\\Users\\数学迷迷迷\\Desktop\\蛋白质\\protgpt2_finetune_data.csv\n"
     ]
    }
   ],
   "source": [
    "import pandas as pd\n",
    "\n",
    "# 设置输入文件路径（请根据实际情况修改）\n",
    "input_path = r\"C:\\Users\\数学迷迷迷\\Desktop\\蛋白质\\protgpt2_finetune_data.txt\"\n",
    "\n",
    "# 读取每一行作为一个蛋白质序列\n",
    "with open(input_path, \"r\", encoding=\"utf-8\") as file:\n",
    "    sequences = file.read().splitlines()\n",
    "\n",
    "# 转换为DataFrame\n",
    "df = pd.DataFrame(sequences, columns=[\"Sequence\"])\n",
    "\n",
    "# 设置输出文件路径\n",
    "output_path = r\"C:\\Users\\数学迷迷迷\\Desktop\\蛋白质\\protgpt2_finetune_data.csv\"\n",
    "\n",
    "# 保存为CSV文件\n",
    "df.to_csv(output_path, index=False, encoding=\"utf-8\")\n",
    "\n",
    "print(\"转换完成，文件已保存为:\", output_path)\n"
   ]
  },
  {
   "cell_type": "code",
   "execution_count": 5,
   "metadata": {},
   "outputs": [
    {
     "name": "stdout",
     "output_type": "stream",
     "text": [
      "读取数据中...\n",
      "提取 GPT CDR3...\n",
      "筛选合法 score=0 样本...\n",
      "有效的 score=0 样本数量: 4299\n"
     ]
    },
    {
     "name": "stderr",
     "output_type": "stream",
     "text": [
      "快速计算最小编辑距离: 100%|████████████████████████████████████████████████████████| 4299/4299 [01:33<00:00, 45.99it/s]"
     ]
    },
    {
     "name": "stdout",
     "output_type": "stream",
     "text": [
      "\n",
      "====== 统计结果 ======\n",
      "编辑距离 = 0: 3 条\n",
      "编辑距离 = 1: 170 条\n",
      "编辑距离 = 2: 1359 条\n",
      "编辑距离 = 3: 1369 条\n",
      "编辑距离 = 4: 636 条\n",
      "编辑距离 = 5: 395 条\n",
      "编辑距离 = 6: 218 条\n",
      "编辑距离 = 7: 88 条\n",
      "编辑距离 = 8: 29 条\n",
      "编辑距离 = 9: 10 条\n",
      "编辑距离 = 10: 9 条\n",
      "编辑距离 = 11: 3 条\n",
      "编辑距离 = 12: 1 条\n",
      "编辑距离 = 14: 2 条\n",
      "编辑距离 = 15: 1 条\n",
      "编辑距离 = 19: 1 条\n",
      "编辑距离 = 20: 3 条\n",
      "编辑距离 = 22: 1 条\n",
      "编辑距离 = 23: 1 条\n",
      "\n",
      "编辑距离 ≤ 2 的样本数（class_2 候选）: 1532\n",
      "编辑距离 = 3 的样本数（class_3 边缘）: 1369\n"
     ]
    },
    {
     "name": "stderr",
     "output_type": "stream",
     "text": [
      "\n"
     ]
    }
   ],
   "source": [
    "import pandas as pd\n",
    "from tqdm import tqdm\n",
    "from collections import Counter\n",
    "from rapidfuzz.distance import Levenshtein\n",
    "\n",
    "# ========= 文件路径 ========= #\n",
    "vdjdb_path = r\"C:\\Users\\数学迷迷迷\\Desktop\\蛋白质\\vdjdb.csv\"\n",
    "gpt_path = r\"C:\\Users\\数学迷迷迷\\Desktop\\蛋白质\\protgpt2_finetune_data.csv\"\n",
    "\n",
    "# ========= 加载数据 ========= #\n",
    "print(\"读取数据中...\")\n",
    "vdjdb_df = pd.read_csv(vdjdb_path)\n",
    "gpt_df = pd.read_csv(gpt_path)\n",
    "\n",
    "# ========= 提取 GPT 训练集 CDR3 ========= #\n",
    "print(\"提取 GPT CDR3...\")\n",
    "gpt_df[\"gpt_cdr3\"] = gpt_df[\"Sequence\"].str.split(\"XXX\").str[0]\n",
    "gpt_cdr3_list = gpt_df[\"gpt_cdr3\"].dropna().unique().tolist()\n",
    "\n",
    "# ========= 过滤掉含 'O' 的训练序列 ========= #\n",
    "gpt_cdr3_list = [seq for seq in gpt_cdr3_list if \"O\" not in seq]\n",
    "\n",
    "# ========= 提取 score=0 且合法的样本 ========= #\n",
    "print(\"筛选合法 score=0 样本...\")\n",
    "if \"cdr3\" not in vdjdb_df.columns:\n",
    "    raise ValueError(\"vdjdb.csv 缺少 'cdr3' 列，请检查列名\")\n",
    "\n",
    "score0_df = vdjdb_df[(vdjdb_df[\"vdjdb.score\"] == 0) & (vdjdb_df[\"cdr3\"].notna())].copy()\n",
    "score0_df = score0_df[~score0_df[\"cdr3\"].str.contains(\"O\")]\n",
    "\n",
    "cdr3_list = score0_df[\"cdr3\"].tolist()\n",
    "print(f\"有效的 score=0 样本数量: {len(cdr3_list)}\")\n",
    "\n",
    "# ========= 快速计算最小编辑距离 ========= #\n",
    "min_dists = []\n",
    "for cdr3 in tqdm(cdr3_list, desc=\"快速计算最小编辑距离\"):\n",
    "    d_min = float(\"inf\")\n",
    "    for ref in gpt_cdr3_list:\n",
    "        d = Levenshtein.distance(cdr3, ref)\n",
    "        if d < d_min:\n",
    "            d_min = d\n",
    "        if d_min <= 2:\n",
    "            break  # 提前退出加速\n",
    "    min_dists.append(d_min)\n",
    "\n",
    "# ========= 保存结果 & 统计 ========= #\n",
    "score0_df[\"min_edit_distance\"] = min_dists\n",
    "dist_counter = Counter(min_dists)\n",
    "count_dist_2_or_less = sum(d <= 2 for d in min_dists)\n",
    "count_dist_3 = dist_counter[3]\n",
    "\n",
    "print(\"\\n====== 统计结果 ======\")\n",
    "for dist in sorted(dist_counter):\n",
    "    print(f\"编辑距离 = {dist}: {dist_counter[dist]} 条\")\n",
    "print(f\"\\n编辑距离 ≤ 2 的样本数（class_2 候选）: {count_dist_2_or_less}\")\n",
    "print(f\"编辑距离 = 3 的样本数（class_3 边缘）: {count_dist_3}\")\n"
   ]
  },
  {
   "cell_type": "code",
   "execution_count": 6,
   "metadata": {},
   "outputs": [
    {
     "name": "stdout",
     "output_type": "stream",
     "text": [
      "读取数据中...\n",
      "提取 GPT CDR3（去除含O）...\n",
      "处理 score = 0 的序列（计算编辑距离）...\n"
     ]
    },
    {
     "name": "stderr",
     "output_type": "stream",
     "text": [
      "快速计算编辑距离: 100%|████████████████████████████████████████████████████████████| 4299/4299 [01:34<00:00, 45.73it/s]\n"
     ]
    },
    {
     "name": "stdout",
     "output_type": "stream",
     "text": [
      "\n",
      "✅ 已完成分类，文件保存至：C:\\Users\\数学迷迷迷\\Desktop\\蛋白质\\vdjdb_labeled.csv\n"
     ]
    }
   ],
   "source": [
    "import pandas as pd\n",
    "from tqdm import tqdm\n",
    "from rapidfuzz.distance import Levenshtein\n",
    "\n",
    "# ========= 文件路径 ========= #\n",
    "vdjdb_path = r\"C:\\Users\\数学迷迷迷\\Desktop\\蛋白质\\vdjdb.csv\"\n",
    "gpt_path = r\"C:\\Users\\数学迷迷迷\\Desktop\\蛋白质\\protgpt2_finetune_data.csv\"\n",
    "output_path = r\"C:\\Users\\数学迷迷迷\\Desktop\\蛋白质\\vdjdb_labeled.csv\"\n",
    "\n",
    "# ========= 加载数据 ========= #\n",
    "print(\"读取数据中...\")\n",
    "vdjdb_df = pd.read_csv(vdjdb_path)\n",
    "gpt_df = pd.read_csv(gpt_path)\n",
    "\n",
    "# ========= 过滤 GPT 训练集非法序列并提取 CDR3 ========= #\n",
    "print(\"提取 GPT CDR3（去除含O）...\")\n",
    "gpt_df = gpt_df[~gpt_df[\"Sequence\"].str.contains(\"O\", na=False)]  # ✅ 先删非法序列\n",
    "gpt_df[\"gpt_cdr3\"] = gpt_df[\"Sequence\"].str.split(\"XXX\").str[0]\n",
    "gpt_cdr3_list = gpt_df[\"gpt_cdr3\"].dropna().unique().tolist()\n",
    "\n",
    "# ========= 初始化 class 列 ========= #\n",
    "vdjdb_df[\"class\"] = None\n",
    "\n",
    "# ========= class = 3: score >= 1 ========= #\n",
    "vdjdb_df.loc[vdjdb_df[\"vdjdb.score\"] >= 1, \"class\"] = 3\n",
    "\n",
    "# ========= 处理 score = 0 的序列 ========= #\n",
    "print(\"处理 score = 0 的序列（计算编辑距离）...\")\n",
    "score0_df = vdjdb_df[(vdjdb_df[\"vdjdb.score\"] == 0) & (vdjdb_df[\"cdr3\"].notna())].copy()\n",
    "score0_df = score0_df[~score0_df[\"cdr3\"].str.contains(\"O\", na=False)]  # ✅ 过滤非法CDR3\n",
    "\n",
    "# ========= 计算编辑距离 ========= #\n",
    "min_dists = []\n",
    "for cdr3 in tqdm(score0_df[\"cdr3\"], desc=\"快速计算编辑距离\"):\n",
    "    d_min = float(\"inf\")\n",
    "    for ref in gpt_cdr3_list:\n",
    "        d = Levenshtein.distance(cdr3, ref)\n",
    "        if d < d_min:\n",
    "            d_min = d\n",
    "        if d_min <= 2:\n",
    "            break  # 加速退出\n",
    "    min_dists.append(d_min)\n",
    "\n",
    "score0_df[\"min_edit_distance\"] = min_dists\n",
    "\n",
    "# ========= 重新赋予 class（2为接近，1为远离） ========= #\n",
    "score0_df[\"class\"] = score0_df[\"min_edit_distance\"].apply(lambda d: 2 if d <= 2 else 1)\n",
    "\n",
    "# ========= 合并回主表 ========= #\n",
    "vdjdb_df.update(score0_df[[\"cdr3\", \"class\"]])\n",
    "\n",
    "# ========= 保存 ========= #\n",
    "vdjdb_df.to_csv(output_path, index=False)\n",
    "print(f\"\\n✅ 已完成分类，文件保存至：{output_path}\")\n"
   ]
  },
  {
   "cell_type": "code",
   "execution_count": null,
   "metadata": {},
   "outputs": [],
   "source": []
  }
 ],
 "metadata": {
  "kernelspec": {
   "display_name": "torchtext",
   "language": "python",
   "name": "torchtext"
  },
  "language_info": {
   "codemirror_mode": {
    "name": "ipython",
    "version": 3
   },
   "file_extension": ".py",
   "mimetype": "text/x-python",
   "name": "python",
   "nbconvert_exporter": "python",
   "pygments_lexer": "ipython3",
   "version": "3.9.21"
  }
 },
 "nbformat": 4,
 "nbformat_minor": 2
}
